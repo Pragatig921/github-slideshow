{
  "nbformat": 4,
  "nbformat_minor": 0,
  "metadata": {
    "colab": {
      "provenance": [],
      "authorship_tag": "ABX9TyNHmySdsKFoYRnWh3aMpYIS",
      "include_colab_link": true
    },
    "kernelspec": {
      "name": "python3",
      "display_name": "Python 3"
    },
    "language_info": {
      "name": "python"
    }
  },
  "cells": [
    {
      "cell_type": "markdown",
      "metadata": {
        "id": "view-in-github",
        "colab_type": "text"
      },
      "source": [
        "<a href=\"https://colab.research.google.com/github/Pragatig921/github-slideshow/blob/dependabot%2Fbundler%2Faddressable-2.8.1/Interview_Preparation.ipynb\" target=\"_parent\"><img src=\"https://colab.research.google.com/assets/colab-badge.svg\" alt=\"Open In Colab\"/></a>"
      ]
    },
    {
      "cell_type": "markdown",
      "source": [
        "Interview Preparation"
      ],
      "metadata": {
        "id": "_Bn8RX3O86ig"
      }
    },
    {
      "cell_type": "markdown",
      "source": [
        "Swap numbers"
      ],
      "metadata": {
        "id": "7npVn7AY-uWL"
      }
    },
    {
      "cell_type": "code",
      "source": [
        "x=int(input(\"enter the first number\"))\n",
        "y=int(input(\"enter the second number\"))\n",
        "print(x,y)\n",
        "x=x+y\n",
        "y=x-y\n",
        "x=x-y\n",
        "print(x,y)"
      ],
      "metadata": {
        "colab": {
          "base_uri": "https://localhost:8080/"
        },
        "id": "j3d-xdjp9FTt",
        "outputId": "a723e9eb-a402-4aff-e5c4-8c7e506e1e22"
      },
      "execution_count": 2,
      "outputs": [
        {
          "output_type": "stream",
          "name": "stdout",
          "text": [
            "enter the first number4\n",
            "enter the second number5\n",
            "4 5\n",
            "5 4\n"
          ]
        }
      ]
    },
    {
      "cell_type": "markdown",
      "source": [
        "Reverse Order"
      ],
      "metadata": {
        "id": "u_-Ff13K-1x2"
      }
    },
    {
      "cell_type": "code",
      "source": [
        "n=int(input(\"enter the number:\"))\n",
        "y=str(n)[::-1]\n",
        "print(y)\n",
        "type(y)"
      ],
      "metadata": {
        "colab": {
          "base_uri": "https://localhost:8080/"
        },
        "id": "Kw5b9XXI9hAZ",
        "outputId": "7030a05f-ba2d-4b15-9e6f-109253c0cf55"
      },
      "execution_count": 3,
      "outputs": [
        {
          "output_type": "stream",
          "name": "stdout",
          "text": [
            "enter the number:7536\n",
            "6357\n"
          ]
        },
        {
          "output_type": "execute_result",
          "data": {
            "text/plain": [
              "str"
            ]
          },
          "metadata": {},
          "execution_count": 3
        }
      ]
    },
    {
      "cell_type": "markdown",
      "source": [
        "Sum of three no."
      ],
      "metadata": {
        "id": "qdS80jzH_XsJ"
      }
    },
    {
      "cell_type": "code",
      "source": [
        "x=int(input(\"enter three digit number:\"))\n",
        "a=x%10 #last digit\n",
        "num=x//10 #first two digit\n",
        "b=num%10 #last digit of two digit\n",
        "c=num//10 #first digit of two digit\n",
        "print(a+b+c)"
      ],
      "metadata": {
        "colab": {
          "base_uri": "https://localhost:8080/"
        },
        "id": "A2rXNhgQ_QVf",
        "outputId": "98655ecf-60b8-47f4-f98b-4459a733a52b"
      },
      "execution_count": 4,
      "outputs": [
        {
          "output_type": "stream",
          "name": "stdout",
          "text": [
            "enter three digit number:567\n",
            "18\n"
          ]
        }
      ]
    },
    {
      "cell_type": "markdown",
      "source": [
        "Euclidean Distance between two Coordinates"
      ],
      "metadata": {
        "id": "hfZd1CcQBhfs"
      }
    },
    {
      "cell_type": "code",
      "source": [
        "import math\n",
        "x1=float(input(\"x1: \"))\n",
        "y1=float(input(\"y1: \"))\n",
        "x2=float(input(\"x2: \"))\n",
        "y2=float(input(\"y2: \"))\n",
        "x=[x1,y1]\n",
        "y=[x2,y2]\n",
        "print(\"=\"*100)\n",
        "print(\"Eucledian distance for given coordinate will be\", round(math.dist(x,y),2))"
      ],
      "metadata": {
        "colab": {
          "base_uri": "https://localhost:8080/"
        },
        "id": "-rMnGPoDAgen",
        "outputId": "6f766ec5-0b11-4bb2-f59d-9446a3da882f"
      },
      "execution_count": 5,
      "outputs": [
        {
          "output_type": "stream",
          "name": "stdout",
          "text": [
            "x1: 4\n",
            "y1: 5\n",
            "x2: 6\n",
            "y2: 8\n",
            "====================================================================================================\n",
            "Eucledian distance for given coordinate will be 3.61\n"
          ]
        }
      ]
    },
    {
      "cell_type": "markdown",
      "source": [
        "whether the given number is divisible by 3 and 6"
      ],
      "metadata": {
        "id": "REVoSzcjFuBB"
      }
    },
    {
      "cell_type": "code",
      "source": [
        "num=int(input(\"enter the number: \"))\n",
        "if num%3==0 and num%6==0:\n",
        "    print(\"the number is divisible by 3 and 6\")\n",
        "else:\n",
        "    print(\"the number is not divisible by 3 and 6\")\n",
        ""
      ],
      "metadata": {
        "colab": {
          "base_uri": "https://localhost:8080/"
        },
        "id": "BLwwQvNFD0RR",
        "outputId": "edd1bd41-7e78-4516-af13-0e0ce172903d"
      },
      "execution_count": 6,
      "outputs": [
        {
          "output_type": "stream",
          "name": "stdout",
          "text": [
            "enter the number: 45\n",
            "the number is not divisible by 3 and 6\n"
          ]
        }
      ]
    },
    {
      "cell_type": "markdown",
      "source": [
        "3 or 6"
      ],
      "metadata": {
        "id": "Pt6lFOrWG5yp"
      }
    },
    {
      "cell_type": "code",
      "source": [
        "x=int(input(\"enter a number:\"))\n",
        "if x%3==0 or x%6==0:\n",
        "    print(\"the number is divisible by 3 or 6\")\n",
        "else:\n",
        "    print(\"the number is not divisible by 3 or 6\")"
      ],
      "metadata": {
        "colab": {
          "base_uri": "https://localhost:8080/"
        },
        "id": "Hqf2Q6U3GpAj",
        "outputId": "ee0bf763-f3cb-49ce-fe40-50309d18b254"
      },
      "execution_count": 9,
      "outputs": [
        {
          "output_type": "stream",
          "name": "stdout",
          "text": [
            "enter a number:45\n",
            "the number is divisible by 3 or 6\n"
          ]
        }
      ]
    },
    {
      "cell_type": "markdown",
      "source": [
        "Take three digit from user and add square"
      ],
      "metadata": {
        "id": "TwKOGnOqIajZ"
      }
    },
    {
      "cell_type": "code",
      "source": [
        "n=int(input(\"enter three digit:\"))    #123\n",
        "a=n%10                                #3\n",
        "num=n//10                             #12\n",
        "b=num%10                              #2\n",
        "c=num//10                             #1\n",
        "output_value=(a**2)+(b**2)+(c**2)\n",
        "print(output_value)"
      ],
      "metadata": {
        "colab": {
          "base_uri": "https://localhost:8080/"
        },
        "id": "SJIHVIXxHaVM",
        "outputId": "47d3a3ac-77f1-4790-fd3b-38c693e3a28f"
      },
      "execution_count": 11,
      "outputs": [
        {
          "output_type": "stream",
          "name": "stdout",
          "text": [
            "enter three digit:234\n",
            "29\n"
          ]
        }
      ]
    },
    {
      "cell_type": "markdown",
      "source": [
        "Armstrong number:Armstrong number is one whose sum of digits raised to the power three equals the number itself.\n",
        "check whether the number is armstrong or not."
      ],
      "metadata": {
        "id": "0xWi688NLT98"
      }
    },
    {
      "cell_type": "code",
      "source": [
        "n=int(input(\"enter three digit number:\"))\n",
        "a=n%10                         #3\n",
        "num=n//10                      #12\n",
        "b=num%10                       #2\n",
        "c=num//10                      #1\n",
        "if(a**3+b**3+c**3)==n:\n",
        "  print(\"the number is armstrong number\")\n",
        "else:\n",
        "  print(\"the number is not armstrong number\")\n"
      ],
      "metadata": {
        "colab": {
          "base_uri": "https://localhost:8080/"
        },
        "id": "YsWqTcXAKnfw",
        "outputId": "ca6f9499-2ded-41f5-bde0-127bf8041815"
      },
      "execution_count": 13,
      "outputs": [
        {
          "output_type": "stream",
          "name": "stdout",
          "text": [
            "enter three digit number:371\n",
            "the number is armstrong number\n"
          ]
        }
      ]
    },
    {
      "cell_type": "markdown",
      "source": [
        "Take 4 digit number and check the number is narcissist number or not"
      ],
      "metadata": {
        "id": "bg02NzKFP9Jr"
      }
    },
    {
      "cell_type": "code",
      "source": [
        "n=int(input(\"enter four digit number:\"))       #1234\n",
        "a=n%10                            #4\n",
        "num=n//10                         #123\n",
        "b=num%10                          #3\n",
        "num_1=num//10                     #12\n",
        "c=num_1%10                        #2\n",
        "d=num_1//10                       #1\n",
        "if (a**4+b**4+c**4+d**4)==n:\n",
        "  print(\"the number is narcissist number\")\n",
        "else:\n",
        "  print(\"the number is not narcissist number\")"
      ],
      "metadata": {
        "colab": {
          "base_uri": "https://localhost:8080/"
        },
        "id": "mL7t9-tRO2sR",
        "outputId": "24bfbacc-e2e6-4b75-e673-2287a5b04062"
      },
      "execution_count": 14,
      "outputs": [
        {
          "output_type": "stream",
          "name": "stdout",
          "text": [
            "enter four digit number:1234\n",
            "the number is not narcissist number\n"
          ]
        }
      ]
    },
    {
      "cell_type": "code",
      "source": [],
      "metadata": {
        "id": "ZJH1p_yFTMU4"
      },
      "execution_count": 14,
      "outputs": []
    }
  ]
}